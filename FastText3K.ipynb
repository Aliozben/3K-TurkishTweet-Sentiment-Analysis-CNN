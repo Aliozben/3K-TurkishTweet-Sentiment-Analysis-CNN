{
 "cells": [
  {
   "cell_type": "code",
   "execution_count": null,
   "metadata": {
    "colab": {
     "base_uri": "https://localhost:8080/",
     "height": 119
    },
    "colab_type": "code",
    "executionInfo": {
     "elapsed": 7500,
     "status": "ok",
     "timestamp": 1592749071648,
     "user": {
      "displayName": "Ali Özben",
      "photoUrl": "https://lh3.googleusercontent.com/a-/AOh14GgQ_v2YMoPPuPqSnNg6eZY2fM5-zwaifiDY-Tbezw=s64",
      "userId": "05892131505573592565"
     },
     "user_tz": -180
    },
    "id": "Qeywz9ThNnsG",
    "outputId": "414845ea-1f68-41f6-f5b9-3f107242b569"
   },
   "outputs": [
    {
     "name": "stdout",
     "output_type": "stream",
     "text": [
      "Requirement already satisfied: fasttext in /usr/local/lib/python3.6/dist-packages (0.9.2)\n",
      "Requirement already satisfied: pybind11>=2.2 in /usr/local/lib/python3.6/dist-packages (from fasttext) (2.5.0)\n",
      "Requirement already satisfied: numpy in /usr/local/lib/python3.6/dist-packages (from fasttext) (1.18.5)\n",
      "Requirement already satisfied: setuptools>=0.7.0 in /usr/local/lib/python3.6/dist-packages (from fasttext) (47.3.1)\n",
      "Drive already mounted at /content/drive; to attempt to forcibly remount, call drive.mount(\"/content/drive\", force_remount=True).\n",
      "Requirement already satisfied: emoji in /usr/local/lib/python3.6/dist-packages (0.5.4)\n"
     ]
    }
   ],
   "source": [
    "!pip install fasttext\n",
    "\n",
    "import fasttext\n",
    "from sklearn.metrics import accuracy_score\n",
    "import matplotlib.pyplot as plt\n",
    "from sklearn.metrics import confusion_matrix\n",
    "import pandas as pd\n",
    "from google.colab import drive\n",
    "import re\n",
    "import seaborn as sns\n",
    "drive.mount('/content/drive')\n",
    "from bs4 import BeautifulSoup\n",
    "import os\n",
    "import re\n",
    "!pip install emoji\n",
    "import emoji"
   ]
  },
  {
   "cell_type": "code",
   "execution_count": null,
   "metadata": {
    "colab": {
     "base_uri": "https://localhost:8080/",
     "height": 68
    },
    "colab_type": "code",
    "executionInfo": {
     "elapsed": 6888,
     "status": "ok",
     "timestamp": 1592746488212,
     "user": {
      "displayName": "Ali Özben",
      "photoUrl": "https://lh3.googleusercontent.com/a-/AOh14GgQ_v2YMoPPuPqSnNg6eZY2fM5-zwaifiDY-Tbezw=s64",
      "userId": "05892131505573592565"
     },
     "user_tz": -180
    },
    "id": "0px1MuAD1Uxn",
    "outputId": "e06ef96f-c36e-43e6-f4d6-676b3a933989"
   },
   "outputs": [
    {
     "name": "stdout",
     "output_type": "stream",
     "text": [
      "1 . Klasör tweet sayısı : 756\n",
      "2 . Klasör tweet sayısı : 1287\n",
      "3 . Klasör tweet sayısı : 957\n"
     ]
    }
   ],
   "source": [
    "\n",
    "\n",
    "def load_dict_smileys():\n",
    "  return {\n",
    "        \":‑)\":\"gülücük\",\n",
    "        \":-]\":\"gülücük\",\n",
    "        \":-3\":\"gülücük\",\n",
    "        \":->\":\"gülücük\",\n",
    "        \"8-)\":\"gülücük\",\n",
    "        \":-}\":\"gülücük\",\n",
    "        \":)\":\"gülücük\",\n",
    "        \":]\":\"gülücük\",\n",
    "        \":3\":\"gülücük\",\n",
    "        \":>\":\"gülücük\",\n",
    "        \"8)\":\"gülücük\",\n",
    "        \":}\":\"gülücük\",\n",
    "        \":o)\":\"gülücük\",\n",
    "        \":c)\":\"gülücük\",\n",
    "        \":^)\":\"gülücük\",\n",
    "        \"=]\":\"gülücük\",\n",
    "        \"=)\":\"gülücük\",\n",
    "        \":-))\":\"gülücük\",\n",
    "        \":‑D\":\"gülücük\",\n",
    "        \"8‑D\":\"gülücük\",\n",
    "        \"x‑D\":\"gülücük\",\n",
    "        \"X‑D\":\"gülücük\",\n",
    "        \":D\":\"gülücük\",\n",
    "        \"8D\":\"gülücük\",\n",
    "        \"xD\":\"gülücük\",\n",
    "        \"XD\":\"gülücük\",\n",
    "        \":‑(\":\"üzgün\",\n",
    "        \":‑c\":\"üzgün\",\n",
    "        \":‑<\":\"üzgün\",\n",
    "        \":‑[\":\"üzgün\",\n",
    "        \":(\":\"üzgün\",\n",
    "        \":c\":\"üzgün\",\n",
    "        \":<\":\"üzgün\",\n",
    "        \":[\":\"üzgün\",\n",
    "        \":-||\":\"üzgün\",\n",
    "        \">:[\":\"üzgün\",\n",
    "        \":{\":\"üzgün\",\n",
    "        \":@\":\"üzgün\",\n",
    "        \">:(\":\"üzgün\",\n",
    "        \":'‑(\":\"üzgün\",\n",
    "        \":'(\":\"üzgün\",\n",
    "        \":‑P\":\"eğlenceli\",\n",
    "        \"X‑P\":\"eğlenceli\",\n",
    "        \"x‑p\":\"eğlenceli\",\n",
    "        \":‑p\":\"eğlenceli\",\n",
    "        \":‑Þ\":\"eğlenceli\",\n",
    "        \":‑þ\":\"eğlenceli\",\n",
    "        \":‑b\":\"eğlenceli\",\n",
    "        \":P\":\"eğlenceli\",\n",
    "        \"XP\":\"eğlenceli\",\n",
    "        \"xp\":\"eğlenceli\",\n",
    "        \":p\":\"eğlenceli\",\n",
    "        \":Þ\":\"eğlenceli\",\n",
    "        \":þ\":\"eğlenceli\",\n",
    "        \":b\":\"eğlenceli\",\n",
    "        \"<3\":\"sevgi\"\n",
    "        }\n",
    "def cumleyiarindir(tweet):\n",
    "    tweet = BeautifulSoup(tweet).get_text()\n",
    "    #Special case not handled previously.\n",
    "    tweet = tweet.replace('\\x92',\"'\")\n",
    "    #Removal of hastags/account\n",
    "    tweet = ' '.join(re.sub(\"(@[A-Za-z0-9]+)|(#[A-Za-z0-9]+)\", \" \", tweet).split())\n",
    "    #Removal of address\n",
    "    tweet = ' '.join(re.sub(\"(\\w+:\\/\\/\\S+)\", \" \", tweet).split())\n",
    "    #Removal of Punctuation\n",
    "    tweet = ' '.join(re.sub(\"[\\.\\,\\!\\?\\:\\;\\-\\=]\", \" \", tweet).split())\n",
    "    #Lower case\n",
    "    tweet = tweet.lower()\n",
    "    SMILEY = load_dict_smileys()  \n",
    "    words = tweet.split()\n",
    "    reformed = [SMILEY[word] if word in SMILEY else word for word in words]\n",
    "    tweet = \" \".join(reformed)\n",
    "    #Deal with emojis\n",
    "    tweet = emoji.demojize(tweet)\n",
    "    #Strip accents\n",
    "   \n",
    "    tweet = tweet.replace(\":\",\" \")\n",
    "    tweet = ' '.join(tweet.split())\n",
    "    return tweet\n",
    "\n",
    "texts_=\"\"\n",
    "labels_ = []\n",
    "\n",
    "folders=[ '1','2', '3']\n",
    "filename='/content/drive/My Drive/data/3000tweet/raw_texts/'\n",
    "for x in folders:\n",
    "    tweet_count=0\n",
    "    if(x=='1'):\n",
    "      lbl = \"__label__olumlu \"\n",
    "    if(x=='2'):\n",
    "      lbl = \"__label__olumsuz \"\n",
    "    if(x=='3'):\n",
    "      lbl = \"__label__notr \"\n",
    "    path=os.path.join(filename, x)        \n",
    "    for t in os.listdir(path):\n",
    "        tweet_count+=1   \n",
    "        p2=os.path.join(path,t)          \n",
    "        f=open(p2, \"r\", encoding=\"cp1254\")   \n",
    "        f=cumleyiarindir(f)\n",
    "        txt=lbl+f+\"\\n\"       \n",
    "        texts_+=txt\n",
    "        \n",
    "        \n",
    "    print(x,'. Klasör tweet sayısı :',tweet_count)\n",
    "dosya=open('/content/drive/My Drive/data/3Ktweet.csv', 'w', encoding=\"utf8\")\n",
    "dosya.write(texts_)\n",
    "dosya.close()\n",
    "\n",
    "\n",
    "      # labels_.append(x)  "
   ]
  },
  {
   "cell_type": "code",
   "execution_count": null,
   "metadata": {
    "colab": {
     "base_uri": "https://localhost:8080/",
     "height": 54
    },
    "colab_type": "code",
    "executionInfo": {
     "elapsed": 889,
     "status": "ok",
     "timestamp": 1592749120151,
     "user": {
      "displayName": "Ali Özben",
      "photoUrl": "https://lh3.googleusercontent.com/a-/AOh14GgQ_v2YMoPPuPqSnNg6eZY2fM5-zwaifiDY-Tbezw=s64",
      "userId": "05892131505573592565"
     },
     "user_tz": -180
    },
    "id": "z7qqc_SbtV1W",
    "outputId": "f67e90fc-04fd-4a14-9a01-b616f68cb54c"
   },
   "outputs": [
    {
     "name": "stdout",
     "output_type": "stream",
     "text": [
      "['__label__notr', '__label__olumsuz', '__label__notr', '__label__olumlu', '__label__olumlu', '__label__olumlu', '__label__olumsuz', '__label__olumsuz', '__label__olumlu', '__label__olumsuz', '__label__olumlu', '__label__olumsuz', '__label__olumlu', '__label__olumsuz', '__label__notr', '__label__olumlu', '__label__notr', '__label__olumlu', '__label__olumsuz', '__label__olumlu', '__label__notr', '__label__olumsuz', '__label__olumlu', '__label__notr', '__label__olumsuz', '__label__olumsuz', '__label__olumsuz', '__label__olumsuz', '__label__olumlu', '__label__notr', '__label__olumlu', '__label__olumsuz', '__label__notr', '__label__notr', '__label__olumsuz', '__label__olumlu', '__label__olumsuz', '__label__olumsuz', '__label__notr', '__label__notr', '__label__notr', '__label__olumsuz', '__label__olumsuz', '__label__olumlu', '__label__notr', '__label__olumsuz', '__label__olumsuz', '__label__olumsuz', '__label__olumlu', '__label__notr', '__label__olumsuz', '__label__olumsuz', '__label__olumsuz', '__label__olumlu', '__label__olumsuz', '__label__olumlu', '__label__olumsuz', '__label__olumlu', '__label__notr', '__label__olumsuz', '__label__notr', '__label__notr', '__label__olumsuz', '__label__notr', '__label__olumsuz', '__label__olumlu', '__label__notr', '__label__olumsuz', '__label__olumsuz', '__label__notr', '__label__olumsuz', '__label__notr', '__label__olumsuz', '__label__notr', '__label__olumsuz', '__label__olumlu', '__label__olumlu', '__label__notr', '__label__olumsuz', '__label__olumsuz', '__label__olumlu', '__label__notr', '__label__olumlu', '__label__notr', '__label__notr', '__label__olumsuz', '__label__olumlu', '__label__olumsuz', '__label__olumlu', '__label__olumsuz', '__label__olumsuz', '__label__olumlu', '__label__olumsuz', '__label__olumsuz', '__label__notr', '__label__notr', '__label__notr', '__label__notr', '__label__notr', '__label__olumsuz', '__label__olumsuz', '__label__olumsuz', '__label__olumsuz', '__label__olumsuz', '__label__notr', '__label__olumsuz', '__label__olumsuz', '__label__olumsuz', '__label__olumsuz', '__label__olumsuz', '__label__olumsuz', '__label__olumsuz', '__label__olumlu', '__label__olumlu', '__label__notr', '__label__olumlu', '__label__olumlu', '__label__notr', '__label__olumlu', '__label__olumsuz', '__label__notr', '__label__notr', '__label__olumlu', '__label__olumsuz', '__label__notr', '__label__olumsuz', '__label__notr', '__label__olumlu', '__label__notr', '__label__olumlu', '__label__olumlu', '__label__olumlu', '__label__olumsuz', '__label__notr', '__label__olumsuz', '__label__notr', '__label__olumsuz', '__label__notr', '__label__olumsuz', '__label__olumlu', '__label__olumsuz', '__label__olumsuz', '__label__olumlu', '__label__olumsuz', '__label__olumsuz', '__label__olumsuz', '__label__olumlu', '__label__olumlu', '__label__notr', '__label__olumsuz', '__label__notr', '__label__olumsuz', '__label__olumsuz', '__label__notr', '__label__olumsuz', '__label__olumsuz', '__label__olumlu', '__label__olumlu', '__label__olumsuz', '__label__olumsuz', '__label__notr', '__label__olumsuz', '__label__olumlu', '__label__notr', '__label__notr', '__label__olumlu', '__label__notr', '__label__olumlu', '__label__olumlu', '__label__olumsuz', '__label__olumlu', '__label__olumsuz', '__label__olumsuz', '__label__notr', '__label__olumsuz', '__label__olumlu', '__label__olumlu', '__label__olumsuz', '__label__olumlu', '__label__notr', '__label__olumlu', '__label__olumsuz', '__label__olumlu', '__label__olumlu', '__label__notr', '__label__olumsuz', '__label__olumlu', '__label__olumsuz', '__label__olumsuz', '__label__notr', '__label__olumsuz', '__label__notr', '__label__olumsuz', '__label__olumsuz', '__label__notr', '__label__olumlu', '__label__notr', '__label__olumsuz', '__label__olumlu', '__label__olumsuz', '__label__notr', '__label__notr', '__label__olumsuz', '__label__olumlu', '__label__olumsuz', '__label__notr', '__label__notr', '__label__olumlu', '__label__olumsuz', '__label__olumlu', '__label__olumlu', '__label__olumsuz', '__label__olumsuz', '__label__olumlu', '__label__olumsuz', '__label__notr', '__label__olumsuz', '__label__olumlu', '__label__olumsuz', '__label__notr', '__label__olumsuz', '__label__olumsuz', '__label__notr', '__label__olumsuz', '__label__olumlu', '__label__notr', '__label__olumlu', '__label__olumsuz', '__label__olumlu', '__label__olumlu', '__label__olumsuz', '__label__olumlu', '__label__olumsuz', '__label__notr', '__label__olumlu', '__label__notr', '__label__olumlu', '__label__olumsuz', '__label__notr', '__label__notr', '__label__notr', '__label__olumsuz', '__label__notr', '__label__olumsuz', '__label__olumsuz', '__label__olumlu', '__label__olumsuz', '__label__notr', '__label__notr', '__label__olumsuz', '__label__olumlu', '__label__olumsuz', '__label__olumsuz', '__label__olumsuz', '__label__olumlu', '__label__olumsuz', '__label__olumlu', '__label__olumsuz', '__label__olumlu', '__label__notr', '__label__olumlu', '__label__olumlu', '__label__olumlu', '__label__olumsuz', '__label__olumlu', '__label__notr', '__label__notr', '__label__notr', '__label__olumsuz', '__label__notr', '__label__olumlu', '__label__notr', '__label__olumsuz', '__label__olumsuz', '__label__olumsuz', '__label__olumsuz', '__label__olumlu', '__label__olumlu', '__label__notr', '__label__notr', '__label__notr', '__label__olumlu', '__label__olumsuz', '__label__notr', '__label__olumsuz', '__label__olumlu', '__label__olumlu', '__label__olumlu', '__label__olumsuz', '__label__olumsuz', '__label__olumsuz', '__label__olumsuz', '__label__olumsuz', '__label__olumsuz', '__label__olumlu', '__label__olumlu', '__label__olumsuz', '__label__olumsuz', '__label__notr', '__label__olumsuz', '__label__olumsuz', '__label__olumsuz', '__label__olumsuz', '__label__olumsuz', '__label__olumsuz', '__label__olumlu', '__label__olumlu', '__label__notr', '__label__notr', '__label__olumsuz', '__label__olumsuz', '__label__olumlu', '__label__olumsuz', '__label__notr', '__label__olumsuz', '__label__olumsuz', '__label__olumsuz', '__label__olumsuz', '__label__notr', '__label__notr', '__label__olumsuz', '__label__notr', '__label__olumlu', '__label__olumsuz', '__label__notr', '__label__olumsuz', '__label__olumsuz', '__label__notr', '__label__notr', '__label__olumsuz', '__label__olumsuz', '__label__olumsuz', '__label__olumsuz', '__label__olumsuz', '__label__olumlu', '__label__olumsuz', '__label__notr', '__label__olumsuz', '__label__olumsuz', '__label__olumsuz', '__label__olumsuz', '__label__notr', '__label__olumsuz', '__label__olumsuz', '__label__olumlu', '__label__notr', '__label__notr', '__label__notr', '__label__olumsuz', '__label__olumsuz', '__label__olumlu', '__label__olumsuz', '__label__olumlu', '__label__olumsuz', '__label__olumlu', '__label__notr', '__label__olumlu', '__label__notr', '__label__olumsuz', '__label__olumsuz', '__label__notr', '__label__olumsuz', '__label__notr', '__label__notr', '__label__olumsuz', '__label__olumlu', '__label__notr', '__label__notr', '__label__notr', '__label__olumsuz', '__label__notr', '__label__olumlu', '__label__olumsuz', '__label__notr', '__label__olumsuz', '__label__olumlu', '__label__olumlu', '__label__notr', '__label__olumsuz', '__label__olumsuz', '__label__olumsuz', '__label__notr', '__label__olumsuz', '__label__olumlu', '__label__notr', '__label__olumsuz', '__label__olumsuz', '__label__olumsuz', '__label__olumsuz', '__label__olumlu', '__label__olumsuz', '__label__notr', '__label__olumsuz', '__label__notr', '__label__olumsuz', '__label__olumlu', '__label__olumsuz', '__label__olumlu', '__label__notr', '__label__notr', '__label__olumlu', '__label__notr', '__label__olumsuz', '__label__notr', '__label__olumsuz', '__label__olumsuz', '__label__olumsuz', '__label__olumlu', '__label__notr', '__label__olumlu', '__label__olumlu', '__label__notr', '__label__olumlu', '__label__olumsuz', '__label__olumsuz', '__label__olumlu', '__label__olumsuz', '__label__olumlu', '__label__olumsuz', '__label__olumsuz', '__label__olumsuz', '__label__olumlu', '__label__olumsuz', '__label__notr', '__label__olumsuz', '__label__olumsuz', '__label__olumsuz', '__label__notr', '__label__olumsuz', '__label__notr', '__label__notr', '__label__olumsuz', '__label__olumsuz', '__label__olumsuz', '__label__notr', '__label__olumsuz', '__label__olumsuz', '__label__olumsuz', '__label__olumsuz', '__label__olumsuz', '__label__olumsuz', '__label__olumsuz', '__label__olumlu', '__label__notr', '__label__notr', '__label__olumsuz', '__label__notr', '__label__olumlu', '__label__olumlu', '__label__notr', '__label__olumsuz', '__label__olumlu', '__label__olumsuz', '__label__olumlu', '__label__notr', '__label__olumlu', '__label__olumsuz', '__label__olumsuz', '__label__notr', '__label__olumlu', '__label__olumsuz', '__label__notr', '__label__olumsuz', '__label__notr', '__label__olumsuz', '__label__olumlu', '__label__notr', '__label__olumsuz', '__label__olumsuz', '__label__olumlu', '__label__olumsuz', '__label__olumlu', '__label__notr', '__label__olumlu', '__label__notr', '__label__olumlu', '__label__olumsuz', '__label__olumsuz', '__label__olumlu', '__label__olumsuz', '__label__olumsuz', '__label__notr', '__label__notr', '__label__olumsuz', '__label__olumsuz', '__label__notr', '__label__notr', '__label__olumsuz', '__label__olumsuz', '__label__notr', '__label__olumlu', '__label__olumsuz', '__label__olumlu', '__label__olumlu', '__label__olumsuz', '__label__olumsuz', '__label__olumlu', '__label__olumlu', '__label__olumlu', '__label__olumsuz', '__label__notr', '__label__notr', '__label__olumlu', '__label__olumlu', '__label__notr', '__label__olumsuz', '__label__olumsuz', '__label__olumsuz', '__label__olumsuz', '__label__notr', '__label__olumsuz', '__label__olumsuz', '__label__olumsuz', '__label__notr', '__label__olumlu', '__label__olumlu', '__label__notr', '__label__olumsuz', '__label__olumsuz', '__label__olumsuz', '__label__olumlu', '__label__notr', '__label__olumsuz', '__label__notr', '__label__notr', '__label__olumlu', '__label__olumlu', '__label__olumlu', '__label__notr', '__label__olumsuz', '__label__olumsuz', '__label__olumlu', '__label__notr', '__label__notr', '__label__notr', '__label__olumsuz', '__label__notr', '__label__olumsuz', '__label__olumsuz', '__label__notr', '__label__olumsuz', '__label__olumsuz', '__label__notr', '__label__notr', '__label__olumlu', '__label__olumlu', '__label__olumlu', '__label__olumsuz', '__label__notr', '__label__notr', '__label__olumsuz', '__label__olumlu', '__label__olumlu', '__label__olumsuz', '__label__olumlu', '__label__notr', '__label__olumsuz', '__label__olumlu', '__label__olumlu', '__label__olumsuz', '__label__notr', '__label__notr', '__label__olumsuz', '__label__olumsuz', '__label__olumsuz', '__label__notr', '__label__olumsuz', '__label__notr', '__label__notr', '__label__olumlu', '__label__olumlu', '__label__notr', '__label__olumsuz', '__label__notr', '__label__olumsuz', '__label__olumlu', '__label__olumlu', '__label__olumsuz', '__label__notr', '__label__olumlu', '__label__olumlu', '__label__notr', '__label__notr', '__label__notr', '__label__notr', '__label__olumsuz', '__label__olumsuz', '__label__olumsuz', '__label__olumsuz', '__label__olumsuz', '__label__notr', '__label__olumlu', '__label__olumlu', '__label__olumlu', '__label__olumsuz', '__label__olumlu', '__label__notr', '__label__olumsuz', '__label__olumsuz', '__label__notr']\n"
     ]
    }
   ],
   "source": [
    "from sklearn.model_selection import train_test_split\n",
    "txts=[]\n",
    "lbls=[]\n",
    "pred_test=[]\n",
    "true_labels=[]\n",
    "with open('/content/drive/My Drive/data/3Ktweet.csv', 'r', encoding=\"utf-8\") as f:\n",
    "  for line in f:\n",
    "    y,x =line.split(' ', 1)\n",
    "    txts.append(x)\n",
    "    \n",
    "    lbls.append(y)\n",
    "x_train, x_test, y_train, y_test = train_test_split(txts, lbls, test_size = 0.2)\n",
    "fp = open('/content/drive/My Drive/data/3Ktweet2.csv','w',encoding='utf8')\n",
    "for i in range(len(x_train)):\n",
    "  sntce=y_train[i]+ ' '+x_train[i]\n",
    "  fp.write(sntce)\n",
    "for i in range(len(x_test)):\n",
    "  sntce=y_test[i]+ ' '+x_test[i]\n",
    "  pred_test.append(x_test[i][:-1])\n",
    "  true_labels.append(y_test[i])\n",
    "  \n",
    "  fp.write(sntce)\n",
    "print(true_labels)\n",
    "fp.close()"
   ]
  },
  {
   "cell_type": "code",
   "execution_count": null,
   "metadata": {
    "colab": {},
    "colab_type": "code",
    "id": "p3xL23APO2Zw"
   },
   "outputs": [],
   "source": [
    "def ayir(dosya, textsize):\n",
    "  num_lines=sum(1 for line in open(dosya))\n",
    "  count=0\n",
    "  train=\"\"\n",
    "  test=\"\"\n",
    "  with open(dosya, 'r', encoding=\"utf-8\") as f:\n",
    "    for line in f:\n",
    "      if(count<(num_lines/100)*(100-textsize)):\n",
    "        train+=line\n",
    "      else:\n",
    "        test+=line\n",
    "      count+=1\n",
    "  dosya=open('/content/drive/My Drive/data/3KFasttrain.txt','w', encoding=\"utf8\")\n",
    "  dosya.write(train)\n",
    "  dosya.close()\n",
    "  dosya=open('/content/drive/My Drive/data/3KFasttest.txt','w', encoding=\"utf8\")\n",
    "  dosya.write(test)\n",
    "  dosya.close()\n",
    "\n",
    "ayir('/content/drive/My Drive/data/3Ktweet2.csv',20)\n"
   ]
  },
  {
   "cell_type": "code",
   "execution_count": null,
   "metadata": {
    "colab": {
     "base_uri": "https://localhost:8080/",
     "height": 415
    },
    "colab_type": "code",
    "executionInfo": {
     "elapsed": 1407,
     "status": "ok",
     "timestamp": 1592749259680,
     "user": {
      "displayName": "Ali Özben",
      "photoUrl": "https://lh3.googleusercontent.com/a-/AOh14GgQ_v2YMoPPuPqSnNg6eZY2fM5-zwaifiDY-Tbezw=s64",
      "userId": "05892131505573592565"
     },
     "user_tz": -180
    },
    "id": "OyvECOmuUu7I",
    "outputId": "72a5ee4a-ae46-4559-95c8-9df9ec385427"
   },
   "outputs": [
    {
     "name": "stdout",
     "output_type": "stream",
     "text": [
      "['__label__notr']\n",
      "[[ 84  28  62]\n",
      " [ 38  82  39]\n",
      " [ 54  34 179]]\n",
      "(<Figure size 432x288 with 1 Axes>, <matplotlib.axes._subplots.AxesSubplot object at 0x7f95d6c1c898>)\n",
      "Accuracy :  0.575\n"
     ]
    },
    {
     "data": {
      "text/plain": [
       "(('__label__olumsuz', '__label__notr', '__label__olumlu'),\n",
       " array([0.6723417 , 0.02932223, 0.00083959]))"
      ]
     },
     "execution_count": 41,
     "metadata": {
      "tags": []
     },
     "output_type": "execute_result"
    },
    {
     "data": {
      "image/png": "[encoded data removed]",
      "text/plain": [
       "<Figure size 432x288 with 1 Axes>"
      ]
     },
     "metadata": {
      "needs_background": "light",
      "tags": []
     },
     "output_type": "display_data"
    }
   ],
   "source": [
    "\n",
    "model = fasttext.train_supervised(input='/content/drive/My Drive/data/3KFasttrain.txt', epoch=25, lr=.1, wordNgrams=1,loss='ova',dim=100)\n",
    "model.test_label('/content/drive/My Drive/data/3KFasttest.txt')\n",
    "\n",
    "def parse_labels(path):\n",
    "    with open(path, 'r') as f:\n",
    "        return np.array(list(map(lambda x: model.predict(x)[0][0], f.read().split())))\n",
    "\n",
    "from mlxtend.plotting import plot_confusion_matrix\n",
    "rounded_pred = model.predict(pred_test, k=1)\n",
    "print(rounded_pred[0][1])\n",
    "\n",
    "print(confusion_matrix(true_labels,rounded_pred[0]))\n",
    "print(plot_confusion_matrix(conf_mat=confusion_matrix(true_labels,rounded_pred[0])))\n",
    "\n",
    "total_acc=0\n",
    "for i in range(len(rounded_pred[0])):\n",
    "  \n",
    "  if rounded_pred[0][i][0]==true_labels[i]:\n",
    "    total_acc+=1\n",
    "print(\"Accuracy : \" ,total_acc/len(rounded_pred[0]))\n",
    "\n",
    "model.predict(\"turkcell çok berbat\",k=3)\n"
   ]
  }
 ],
 "metadata": {
  "colab": {
   "authorship_tag": "ABX9TyNxhk+iT3XzoN0DR5BXBeVb",
   "name": "Hızlı&Öfkeli3K.ipynb",
   "provenance": []
  },
  "kernelspec": {
   "display_name": "Python 3",
   "language": "python",
   "name": "python3"
  },
  "language_info": {
   "codemirror_mode": {
    "name": "ipython",
    "version": 3
   },
   "file_extension": ".py",
   "mimetype": "text/x-python",
   "name": "python",
   "nbconvert_exporter": "python",
   "pygments_lexer": "ipython3",
   "version": "3.7.7"
  }
 },
 "nbformat": 4,
 "nbformat_minor": 1
}
