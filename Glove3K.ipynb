{
 "cells": [
  {
   "cell_type": "code",
   "execution_count": 1,
   "metadata": {
    "colab": {
     "base_uri": "https://localhost:8080/",
     "height": 411
    },
    "colab_type": "code",
    "executionInfo": {
     "elapsed": 84198,
     "status": "ok",
     "timestamp": 1592739156916,
     "user": {
      "displayName": "Ali Özben",
      "photoUrl": "https://lh3.googleusercontent.com/a-/AOh14GgQ_v2YMoPPuPqSnNg6eZY2fM5-zwaifiDY-Tbezw=s64",
      "userId": "05892131505573592565"
     },
     "user_tz": -180
    },
    "id": "zrhDfFiw4fsB",
    "outputId": "c66a8be1-a71c-492e-d6ba-f6d3e5af0d90"
   },
   "outputs": [
    {
     "name": "stdout",
     "output_type": "stream",
     "text": [
      "Collecting glove_python\n",
      "\u001b[?25l  Downloading https://files.pythonhosted.org/packages/3e/79/7e7e548dd9dcb741935d031117f4bed133276c2a047aadad42f1552d1771/glove_python-0.1.0.tar.gz (263kB)\n",
      "\r",
      "\u001b[K     |█▎                              | 10kB 16.2MB/s eta 0:00:01\r",
      "\u001b[K     |██▌                             | 20kB 2.1MB/s eta 0:00:01\r",
      "\u001b[K     |███▊                            | 30kB 2.7MB/s eta 0:00:01\r",
      "\u001b[K     |█████                           | 40kB 3.1MB/s eta 0:00:01\r",
      "\u001b[K     |██████▎                         | 51kB 2.5MB/s eta 0:00:01\r",
      "\u001b[K     |███████▌                        | 61kB 2.8MB/s eta 0:00:01\r",
      "\u001b[K     |████████▊                       | 71kB 3.1MB/s eta 0:00:01\r",
      "\u001b[K     |██████████                      | 81kB 3.3MB/s eta 0:00:01\r",
      "\u001b[K     |███████████▏                    | 92kB 3.6MB/s eta 0:00:01\r",
      "\u001b[K     |████████████▌                   | 102kB 3.4MB/s eta 0:00:01\r",
      "\u001b[K     |█████████████▊                  | 112kB 3.4MB/s eta 0:00:01\r",
      "\u001b[K     |███████████████                 | 122kB 3.4MB/s eta 0:00:01\r",
      "\u001b[K     |████████████████▏               | 133kB 3.4MB/s eta 0:00:01\r",
      "\u001b[K     |█████████████████▍              | 143kB 3.4MB/s eta 0:00:01\r",
      "\u001b[K     |██████████████████▊             | 153kB 3.4MB/s eta 0:00:01\r",
      "\u001b[K     |████████████████████            | 163kB 3.4MB/s eta 0:00:01\r",
      "\u001b[K     |█████████████████████▏          | 174kB 3.4MB/s eta 0:00:01\r",
      "\u001b[K     |██████████████████████▍         | 184kB 3.4MB/s eta 0:00:01\r",
      "\u001b[K     |███████████████████████▋        | 194kB 3.4MB/s eta 0:00:01\r",
      "\u001b[K     |█████████████████████████       | 204kB 3.4MB/s eta 0:00:01\r",
      "\u001b[K     |██████████████████████████▏     | 215kB 3.4MB/s eta 0:00:01\r",
      "\u001b[K     |███████████████████████████▍    | 225kB 3.4MB/s eta 0:00:01\r",
      "\u001b[K     |████████████████████████████▋   | 235kB 3.4MB/s eta 0:00:01\r",
      "\u001b[K     |█████████████████████████████▉  | 245kB 3.4MB/s eta 0:00:01\r",
      "\u001b[K     |███████████████████████████████▏| 256kB 3.4MB/s eta 0:00:01\r",
      "\u001b[K     |████████████████████████████████| 266kB 3.4MB/s \n",
      "\u001b[?25hRequirement already satisfied: numpy in /usr/local/lib/python3.6/dist-packages (from glove_python) (1.18.5)\n",
      "Requirement already satisfied: scipy in /usr/local/lib/python3.6/dist-packages (from glove_python) (1.4.1)\n",
      "Building wheels for collected packages: glove-python\n",
      "  Building wheel for glove-python (setup.py) ... \u001b[?25l\u001b[?25hdone\n",
      "  Created wheel for glove-python: filename=glove_python-0.1.0-cp36-cp36m-linux_x86_64.whl size=700248 sha256=16cd64835dbac5bffe1615b600df538ec43afc5ac67fd4bb2d12541b54d3ef65\n",
      "  Stored in directory: /root/.cache/pip/wheels/88/4b/6d/10c0d2ad32c9d9d68beec9694a6f0b6e83ab1662a90a089a4b\n",
      "Successfully built glove-python\n",
      "Installing collected packages: glove-python\n",
      "Successfully installed glove-python-0.1.0\n"
     ]
    },
    {
     "name": "stderr",
     "output_type": "stream",
     "text": [
      "Using TensorFlow backend.\n",
      "/usr/local/lib/python3.6/dist-packages/statsmodels/tools/_testing.py:19: FutureWarning: pandas.util.testing is deprecated. Use the functions in the public API at pandas.testing instead.\n",
      "  import pandas.util.testing as tm\n"
     ]
    },
    {
     "name": "stdout",
     "output_type": "stream",
     "text": [
      "[nltk_data] Downloading package stopwords to /root/nltk_data...\n",
      "[nltk_data]   Unzipping corpora/stopwords.zip.\n",
      "Go to this URL in a browser: https://accounts.google.com/o/oauth2/auth?client_id=947318989803-6bn6qk8qdgf4n4g3pfee6491hc0brc4i.apps.googleusercontent.com&redirect_uri=urn%3aietf%3awg%3aoauth%3a2.0%3aoob&response_type=code&scope=email%20https%3a%2f%2fwww.googleapis.com%2fauth%2fdocs.test%20https%3a%2f%2fwww.googleapis.com%2fauth%2fdrive%20https%3a%2f%2fwww.googleapis.com%2fauth%2fdrive.photos.readonly%20https%3a%2f%2fwww.googleapis.com%2fauth%2fpeopleapi.readonly\n",
      "\n",
      "Enter your authorization code:\n",
      "··········\n",
      "Mounted at /content/drive\n"
     ]
    }
   ],
   "source": [
    "!pip install glove_python\n",
    "import sys\n",
    "import pandas as pd\n",
    "from sklearn import metrics\n",
    "from gensim.models.word2vec import Word2Vec\n",
    "from sklearn.model_selection import train_test_split\n",
    "from keras.utils import to_categorical\n",
    "from keras.layers import Dense,Dropout,Conv1D,MaxPool1D,GlobalMaxPool1D,Activation,LSTM, Embedding\n",
    "from keras.preprocessing.text import Tokenizer\n",
    "from keras.preprocessing.sequence import pad_sequences\n",
    "from keras.models import Sequential\n",
    "import re\n",
    "\n",
    "import nltk\n",
    "from glove import Corpus, Glove\n",
    "from nltk.corpus import stopwords\n",
    "from sklearn import preprocessing\n",
    "from gensim.parsing.preprocessing import remove_stopwords\n",
    "from sklearn.metrics import confusion_matrix\n",
    "from mlxtend.plotting import plot_confusion_matrix\n",
    "import matplotlib.pyplot as plt\n",
    "from sklearn.preprocessing import StandardScaler\n",
    "import seaborn as sns\n",
    "\n",
    "import os\n",
    "from pydrive.auth import GoogleAuth\n",
    "from pydrive.drive import GoogleDrive\n",
    "from google.colab import drive\n",
    "from oauth2client.client import GoogleCredentials\n",
    "import numpy as np\n",
    "nltk.download('stopwords')\n",
    "\n",
    "drive.mount('/content/drive')"
   ]
  },
  {
   "cell_type": "code",
   "execution_count": 41,
   "metadata": {
    "colab": {
     "base_uri": "https://localhost:8080/",
     "height": 68
    },
    "colab_type": "code",
    "executionInfo": {
     "elapsed": 3684,
     "status": "ok",
     "timestamp": 1592743405270,
     "user": {
      "displayName": "Ali Özben",
      "photoUrl": "https://lh3.googleusercontent.com/a-/AOh14GgQ_v2YMoPPuPqSnNg6eZY2fM5-zwaifiDY-Tbezw=s64",
      "userId": "05892131505573592565"
     },
     "user_tz": -180
    },
    "id": "tOJv3G8f4mHd",
    "outputId": "1a5384cd-248c-400b-a959-8181351987f4"
   },
   "outputs": [
    {
     "name": "stdout",
     "output_type": "stream",
     "text": [
      "1 . Klasör tweet sayısı : 756\n",
      "2 . Klasör tweet sayısı : 1287\n",
      "3 . Klasör tweet sayısı : 957\n"
     ]
    }
   ],
   "source": [
    "x=[]\n",
    "y=[]\n",
    "folders=['1','2','3']\n",
    "\n",
    "filename='/content/drive/My Drive/data/3000tweet/raw_texts/'\n",
    "for a in folders:\n",
    "    text_count=0\n",
    "    path=os.path.join(filename, a)\n",
    "    for t in os.listdir(path):\n",
    "        text_count+=1\n",
    "        p2=os.path.join(path, t)\n",
    "        f=open(p2, 'r',  encoding=\"cp1254\")\n",
    "        x.append(f.read())\n",
    "        y.append(a)\n",
    "        f.close()\n",
    "    print(a,'. Klasör tweet sayısı :',text_count)"
   ]
  },
  {
   "cell_type": "code",
   "execution_count": 42,
   "metadata": {
    "colab": {
     "base_uri": "https://localhost:8080/",
     "height": 1000
    },
    "colab_type": "code",
    "executionInfo": {
     "elapsed": 100766,
     "status": "ok",
     "timestamp": 1592743510170,
     "user": {
      "displayName": "Ali Özben",
      "photoUrl": "https://lh3.googleusercontent.com/a-/AOh14GgQ_v2YMoPPuPqSnNg6eZY2fM5-zwaifiDY-Tbezw=s64",
      "userId": "05892131505573592565"
     },
     "user_tz": -180
    },
    "id": "SAgjc8L-9g55",
    "outputId": "66cc7f5f-478a-4366-90ee-634005a054f5"
   },
   "outputs": [
    {
     "name": "stdout",
     "output_type": "stream",
     "text": [
      "[[-0.01832352 -0.02301721 -0.03353199 ... -0.19527296 -0.78652928\n",
      "  -0.83940099]\n",
      " [-0.01832352 -0.02301721 -0.03353199 ... -0.71405845  0.09161996\n",
      "  -0.83884683]\n",
      " [-0.01832352 -0.02301721 -0.03353199 ...  0.21548101 -0.79548427\n",
      "  -0.67204607]\n",
      " ...\n",
      " [-0.01832352 -0.02301721 -0.03353199 ... -0.69561404 -0.76917897\n",
      "   2.41016594]\n",
      " [-0.01832352 -0.02301721 -0.03353199 ... -0.41982628 -0.79352537\n",
      "   2.41182841]\n",
      " [-0.01832352 -0.02301721 -0.03353199 ...  0.10598565 -0.79184631\n",
      "  -0.78869577]]\n",
      "['1', '1', '1', '1', '1', '1', '1', '1', '1', '1', '1', '1', '1', '1', '1', '1', '1', '1', '1', '1', '1', '1', '1', '1', '1', '1', '1', '1', '1', '1', '1', '1', '1', '1', '1', '1', '1', '1', '1', '1', '1', '1', '1', '1', '1', '1', '1', '1', '1', '1', '1', '1', '1', '1', '1', '1', '1', '1', '1', '1', '1', '1', '1', '1', '1', '1', '1', '1', '1', '1', '1', '1', '1', '1', '1', '1', '1', '1', '1', '1', '1', '1', '1', '1', '1', '1', '1', '1', '1', '1', '1', '1', '1', '1', '1', '1', '1', '1', '1', '1', '1', '1', '1', '1', '1', '1', '1', '1', '1', '1', '1', '1', '1', '1', '1', '1', '1', '1', '1', '1', '1', '1', '1', '1', '1', '1', '1', '1', '1', '1', '1', '1', '1', '1', '1', '1', '1', '1', '1', '1', '1', '1', '1', '1', '1', '1', '1', '1', '1', '1', '1', '1', '1', '1', '1', '1', '1', '1', '1', '1', '1', '1', '1', '1', '1', '1', '1', '1', '1', '1', '1', '1', '1', '1', '1', '1', '1', '1', '1', '1', '1', '1', '1', '1', '1', '1', '1', '1', '1', '1', '1', '1', '1', '1', '1', '1', '1', '1', '1', '1', '1', '1', '1', '1', '1', '1', '1', '1', '1', '1', '1', '1', '1', '1', '1', '1', '1', '1', '1', '1', '1', '1', '1', '1', '1', '1', '1', '1', '1', '1', '1', '1', '1', '1', '1', '1', '1', '1', '1', '1', '1', '1', '1', '1', '1', '1', '1', '1', '1', '1', '1', '1', '1', '1', '1', '1', '1', '1', '1', '1', '1', '1', '1', '1', '1', '1', '1', '1', '1', '1', '1', '1', '1', '1', '1', '1', '1', '1', '1', '1', '1', '1', '1', '1', '1', '1', '1', '1', '1', '1', '1', '1', '1', '1', '1', '1', '1', '1', '1', '1', '1', '1', '1', '1', '1', '1', '1', '1', '1', '1', '1', '1', '1', '1', '1', '1', '1', '1', '1', '1', '1', '1', '1', '1', '1', '1', '1', '1', '1', '1', '1', '1', '1', '1', '1', '1', '1', '1', '1', '1', '1', '1', '1', '1', '1', '1', '1', '1', '1', '1', '1', '1', '1', '1', '1', '1', '1', '1', '1', '1', '1', '1', '1', '1', '1', '1', '1', '1', '1', '1', '1', '1', '1', '1', '1', '1', '1', '1', '1', '1', '1', '1', '1', '1', '1', '1', '1', '1', '1', '1', '1', '1', '1', '1', '1', '1', '1', '1', '1', '1', '1', '1', '1', '1', '1', '1', '1', '1', '1', '1', '1', '1', '1', '1', '1', '1', '1', '1', '1', '1', '1', '1', '1', '1', '1', '1', '1', '1', '1', '1', '1', '1', '1', '1', '1', '1', '1', '1', '1', '1', '1', '1', '1', '1', '1', '1', '1', '1', '1', '1', '1', '1', '1', '1', '1', '1', '1', '1', '1', '1', '1', '1', '1', '1', '1', '1', '1', '1', '1', '1', '1', '1', '1', '1', '1', '1', '1', '1', '1', '1', '1', '1', '1', '1', '1', '1', '1', '1', '1', '1', '1', '1', '1', '1', '1', '1', '1', '1', '1', '1', '1', '1', '1', '1', '1', '1', '1', '1', '1', '1', '1', '1', '1', '1', '1', '1', '1', '1', '1', '1', '1', '1', '1', '1', '1', '1', '1', '1', '1', '1', '1', '1', '1', '1', '1', '1', '1', '1', '1', '1', '1', '1', '1', '1', '1', '1', '1', '1', '1', '1', '1', '1', '1', '1', '1', '1', '1', '1', '1', '1', '1', '1', '1', '1', '1', '1', '1', '1', '1', '1', '1', '1', '1', '1', '1', '1', '1', '1', '1', '1', '1', '1', '1', '1', '1', '1', '1', '1', '1', '1', '1', '1', '1', '1', '1', '1', '1', '1', '1', '1', '1', '1', '1', '1', '1', '1', '1', '1', '1', '1', '1', '1', '1', '1', '1', '1', '1', '1', '1', '1', '1', '1', '1', '1', '1', '1', '1', '1', '1', '1', '1', '1', '1', '1', '1', '1', '1', '1', '1', '1', '1', '1', '1', '1', '1', '1', '1', '1', '1', '1', '1', '1', '1', '1', '1', '1', '1', '1', '1', '1', '1', '1', '1', '1', '1', '1', '1', '1', '1', '1', '1', '1', '1', '1', '1', '1', '1', '1', '1', '1', '1', '1', '1', '1', '1', '1', '1', '1', '1', '1', '1', '1', '1', '1', '1', '1', '1', '1', '1', '1', '1', '1', '1', '1', '1', '1', '1', '1', '1', '1', '1', '1', '1', '1', '1', '1', '1', '1', '1', '1', '1', '1', '1', '1', '1', '1', '1', '1', '1', '1', '1', '1', '1', '1', '1', '1', '1', '1', '1', '1', '1', '1', '1', '1', '1', '1', '1', '1', '1', '1', '1', '1', '1', '1', '1', '1', '2', '2', '2', '2', '2', '2', '2', '2', '2', '2', '2', '2', '2', '2', '2', '2', '2', '2', '2', '2', '2', '2', '2', '2', '2', '2', '2', '2', '2', '2', '2', '2', '2', '2', '2', '2', '2', '2', '2', '2', '2', '2', '2', '2', '2', '2', '2', '2', '2', '2', '2', '2', '2', '2', '2', '2', '2', '2', '2', '2', '2', '2', '2', '2', '2', '2', '2', '2', '2', '2', '2', '2', '2', '2', '2', '2', '2', '2', '2', '2', '2', '2', '2', '2', '2', '2', '2', '2', '2', '2', '2', '2', '2', '2', '2', '2', '2', '2', '2', '2', '2', '2', '2', '2', '2', '2', '2', '2', '2', '2', '2', '2', '2', '2', '2', '2', '2', '2', '2', '2', '2', '2', '2', '2', '2', '2', '2', '2', '2', '2', '2', '2', '2', '2', '2', '2', '2', '2', '2', '2', '2', '2', '2', '2', '2', '2', '2', '2', '2', '2', '2', '2', '2', '2', '2', '2', '2', '2', '2', '2', '2', '2', '2', '2', '2', '2', '2', '2', '2', '2', '2', '2', '2', '2', '2', '2', '2', '2', '2', '2', '2', '2', '2', '2', '2', '2', '2', '2', '2', '2', '2', '2', '2', '2', '2', '2', '2', '2', '2', '2', '2', '2', '2', '2', '2', '2', '2', '2', '2', '2', '2', '2', '2', '2', '2', '2', '2', '2', '2', '2', '2', '2', '2', '2', '2', '2', '2', '2', '2', '2', '2', '2', '2', '2', '2', '2', '2', '2', '2', '2', '2', '2', '2', '2', '2', '2', '2', '2', '2', '2', '2', '2', '2', '2', '2', '2', '2', '2', '2', '2', '2', '2', '2', '2', '2', '2', '2', '2', '2', '2', '2', '2', '2', '2', '2', '2', '2', '2', '2', '2', '2', '2', '2', '2', '2', '2', '2', '2', '2', '2', '2', '2', '2', '2', '2', '2', '2', '2', '2', '2', '2', '2', '2', '2', '2', '2', '2', '2', '2', '2', '2', '2', '2', '2', '2', '2', '2', '2', '2', '2', '2', '2', '2', '2', '2', '2', '2', '2', '2', '2', '2', '2', '2', '2', '2', '2', '2', '2', '2', '2', '2', '2', '2', '2', '2', '2', '2', '2', '2', '2', '2', '2', '2', '2', '2', '2', '2', '2', '2', '2', '2', '2', '2', '2', '2', '2', '2', '2', '2', '2', '2', '2', '2', '2', '2', '2', '2', '2', '2', '2', '2', '2', '2', '2', '2', '2', '2', '2', '2', '2', '2', '2', '2', '2', '2', '2', '2', '2', '2', '2', '2', '2', '2', '2', '2', '2', '2', '2', '2', '2', '2', '2', '2', '2', '2', '2', '2', '2', '2', '2', '2', '2', '2', '2', '2', '2', '2', '2', '2', '2', '2', '2', '2', '2', '2', '2', '2', '2', '2', '2', '2', '2', '2', '2', '2', '2', '2', '2', '2', '2', '2', '2', '2', '2', '2', '2', '2', '2', '2', '2', '2', '2', '2', '2', '2', '2', '2', '2', '2', '2', '2', '2', '2', '2', '2', '2', '2', '2', '2', '2', '2', '2', '2', '2', '2', '2', '2', '2', '2', '2', '2', '2', '2', '2', '2', '2', '2', '2', '2', '2', '2', '2', '2', '2', '2', '2', '2', '2', '2', '2', '2', '2', '2', '2', '2', '2', '2', '2', '2', '2', '2', '2', '2', '2', '2', '2', '2', '2', '2', '2', '2', '2', '2', '2', '2', '2', '2', '2', '2', '2', '2', '2', '2', '2', '2', '2', '2', '2', '2', '2', '2', '2', '2', '2', '2', '2', '2', '2', '2', '2', '2', '2', '2', '2', '2', '2', '2', '2', '2', '2', '2', '2', '2', '2', '2', '2', '2', '2', '2', '2', '2', '2', '2', '2', '2', '2', '2', '2', '2', '2', '2', '2', '2', '2', '2', '2', '2', '2', '2', '2', '2', '2', '2', '2', '2', '2', '2', '2', '2', '2', '2', '2', '2', '2', '2', '2', '2', '2', '2', '2', '2', '2', '2', '2', '2', '2', '2', '2', '2', '2', '2', '2', '2', '2', '2', '2', '2', '2', '2', '2', '2', '2', '2', '2', '2', '2', '2', '2', '2', '2', '2', '2', '2', '2', '2', '2', '2', '2', '2', '2', '2', '2', '2', '2', '2', '2', '2', '2', '2', '2', '2', '2', '2', '2', '2', '2', '2', '2', '2', '2', '2', '2', '2', '2', '2', '2', '2', '2', '2', '2', '2', '2', '2', '2', '2', '2', '2', '2', '2', '2', '2', '2', '2', '2', '2', '2', '2', '2', '2', '2', '2', '2', '2', '2', '2', '2', '2', '2', '2', '2', '2', '2', '2', '2', '2', '2', '2', '2', '2', '2', '2', '2', '2', '2', '2', '2', '2', '2', '2', '2', '2', '2', '2', '2', '2', '2', '2', '2', '2', '2', '2', '2', '2', '2', '2', '2', '2', '2', '2', '2', '2', '2', '2', '2', '2', '2', '2', '2', '2', '2', '2', '2', '2', '2', '2', '2', '2', '2', '2', '2', '2', '2', '2', '2', '2', '2', '2', '2', '2', '2', '2', '2', '2', '2', '2', '2', '2', '2', '2', '2', '2', '2', '2', '2', '2', '2', '2', '2', '2', '2', '2', '2', '2', '2', '2', '2', '2', '2', '2', '2', '2', '2', '2', '2', '2', '2', '2', '2', '2', '2', '2', '2', '2', '2', '2', '2', '2', '2', '2', '2', '2', '2', '2', '2', '2', '2', '2', '2', '2', '2', '2', '2', '2', '2', '2', '2', '2', '2', '2', '2', '2', '2', '2', '2', '2', '2', '2', '2', '2', '2', '2', '2', '2', '2', '2', '2', '2', '2', '2', '2', '2', '2', '2', '2', '2', '2', '2', '2', '2', '2', '2', '2', '2', '2', '2', '2', '2', '2', '2', '2', '2', '2', '2', '2', '2', '2', '2', '2', '2', '2', '2', '2', '2', '2', '2', '2', '2', '2', '2', '2', '2', '2', '2', '2', '2', '2', '2', '2', '2', '2', '2', '2', '2', '2', '2', '2', '2', '2', '2', '2', '2', '2', '2', '2', '2', '2', '2', '2', '2', '2', '2', '2', '2', '2', '2', '2', '2', '2', '2', '2', '2', '2', '2', '2', '2', '2', '2', '2', '2', '2', '2', '2', '2', '2', '2', '2', '2', '2', '2', '2', '2', '2', '2', '2', '2', '2', '2', '2', '2', '2', '2', '2', '2', '2', '2', '2', '2', '2', '2', '2', '2', '2', '2', '2', '2', '2', '2', '2', '2', '2', '2', '2', '2', '2', '2', '2', '2', '2', '2', '2', '2', '2', '2', '2', '2', '2', '2', '2', '2', '2', '2', '2', '2', '2', '2', '2', '2', '2', '2', '2', '2', '2', '2', '2', '2', '2', '2', '2', '2', '2', '2', '2', '2', '2', '2', '2', '2', '2', '2', '2', '2', '2', '2', '2', '2', '2', '2', '2', '2', '2', '2', '2', '2', '2', '2', '2', '2', '2', '2', '2', '2', '2', '2', '2', '2', '2', '2', '2', '2', '2', '2', '2', '2', '2', '2', '2', '2', '2', '2', '2', '2', '2', '2', '2', '2', '2', '2', '2', '2', '2', '2', '2', '2', '2', '2', '2', '2', '2', '2', '2', '2', '2', '2', '2', '2', '2', '2', '2', '2', '2', '2', '2', '2', '2', '2', '2', '2', '2', '2', '2', '2', '2', '2', '2', '2', '2', '2', '2', '2', '2', '2', '2', '2', '2', '2', '2', '2', '2', '2', '2', '2', '2', '2', '2', '2', '2', '2', '2', '2', '2', '2', '2', '2', '2', '2', '2', '2', '2', '2', '2', '2', '2', '2', '2', '2', '2', '2', '2', '2', '2', '2', '2', '2', '2', '2', '2', '2', '2', '2', '2', '2', '2', '2', '2', '2', '2', '2', '2', '2', '2', '2', '2', '2', '2', '2', '2', '2', '2', '2', '2', '2', '2', '2', '2', '2', '2', '2', '2', '2', '2', '2', '2', '2', '2', '2', '2', '2', '2', '2', '2', '2', '2', '2', '2', '2', '2', '2', '2', '2', '2', '2', '2', '2', '2', '2', '2', '2', '2', '2', '2', '2', '2', '2', '2', '2', '2', '2', '2', '2', '2', '2', '2', '2', '2', '2', '2', '2', '2', '2', '2', '2', '2', '2', '2', '2', '2', '2', '3', '3', '3', '3', '3', '3', '3', '3', '3', '3', '3', '3', '3', '3', '3', '3', '3', '3', '3', '3', '3', '3', '3', '3', '3', '3', '3', '3', '3', '3', '3', '3', '3', '3', '3', '3', '3', '3', '3', '3', '3', '3', '3', '3', '3', '3', '3', '3', '3', '3', '3', '3', '3', '3', '3', '3', '3', '3', '3', '3', '3', '3', '3', '3', '3', '3', '3', '3', '3', '3', '3', '3', '3', '3', '3', '3', '3', '3', '3', '3', '3', '3', '3', '3', '3', '3', '3', '3', '3', '3', '3', '3', '3', '3', '3', '3', '3', '3', '3', '3', '3', '3', '3', '3', '3', '3', '3', '3', '3', '3', '3', '3', '3', '3', '3', '3', '3', '3', '3', '3', '3', '3', '3', '3', '3', '3', '3', '3', '3', '3', '3', '3', '3', '3', '3', '3', '3', '3', '3', '3', '3', '3', '3', '3', '3', '3', '3', '3', '3', '3', '3', '3', '3', '3', '3', '3', '3', '3', '3', '3', '3', '3', '3', '3', '3', '3', '3', '3', '3', '3', '3', '3', '3', '3', '3', '3', '3', '3', '3', '3', '3', '3', '3', '3', '3', '3', '3', '3', '3', '3', '3', '3', '3', '3', '3', '3', '3', '3', '3', '3', '3', '3', '3', '3', '3', '3', '3', '3', '3', '3', '3', '3', '3', '3', '3', '3', '3', '3', '3', '3', '3', '3', '3', '3', '3', '3', '3', '3', '3', '3', '3', '3', '3', '3', '3', '3', '3', '3', '3', '3', '3', '3', '3', '3', '3', '3', '3', '3', '3', '3', '3', '3', '3', '3', '3', '3', '3', '3', '3', '3', '3', '3', '3', '3', '3', '3', '3', '3', '3', '3', '3', '3', '3', '3', '3', '3', '3', '3', '3', '3', '3', '3', '3', '3', '3', '3', '3', '3', '3', '3', '3', '3', '3', '3', '3', '3', '3', '3', '3', '3', '3', '3', '3', '3', '3', '3', '3', '3', '3', '3', '3', '3', '3', '3', '3', '3', '3', '3', '3', '3', '3', '3', '3', '3', '3', '3', '3', '3', '3', '3', '3', '3', '3', '3', '3', '3', '3', '3', '3', '3', '3', '3', '3', '3', '3', '3', '3', '3', '3', '3', '3', '3', '3', '3', '3', '3', '3', '3', '3', '3', '3', '3', '3', '3', '3', '3', '3', '3', '3', '3', '3', '3', '3', '3', '3', '3', '3', '3', '3', '3', '3', '3', '3', '3', '3', '3', '3', '3', '3', '3', '3', '3', '3', '3', '3', '3', '3', '3', '3', '3', '3', '3', '3', '3', '3', '3', '3', '3', '3', '3', '3', '3', '3', '3', '3', '3', '3', '3', '3', '3', '3', '3', '3', '3', '3', '3', '3', '3', '3', '3', '3', '3', '3', '3', '3', '3', '3', '3', '3', '3', '3', '3', '3', '3', '3', '3', '3', '3', '3', '3', '3', '3', '3', '3', '3', '3', '3', '3', '3', '3', '3', '3', '3', '3', '3', '3', '3', '3', '3', '3', '3', '3', '3', '3', '3', '3', '3', '3', '3', '3', '3', '3', '3', '3', '3', '3', '3', '3', '3', '3', '3', '3', '3', '3', '3', '3', '3', '3', '3', '3', '3', '3', '3', '3', '3', '3', '3', '3', '3', '3', '3', '3', '3', '3', '3', '3', '3', '3', '3', '3', '3', '3', '3', '3', '3', '3', '3', '3', '3', '3', '3', '3', '3', '3', '3', '3', '3', '3', '3', '3', '3', '3', '3', '3', '3', '3', '3', '3', '3', '3', '3', '3', '3', '3', '3', '3', '3', '3', '3', '3', '3', '3', '3', '3', '3', '3', '3', '3', '3', '3', '3', '3', '3', '3', '3', '3', '3', '3', '3', '3', '3', '3', '3', '3', '3', '3', '3', '3', '3', '3', '3', '3', '3', '3', '3', '3', '3', '3', '3', '3', '3', '3', '3', '3', '3', '3', '3', '3', '3', '3', '3', '3', '3', '3', '3', '3', '3', '3', '3', '3', '3', '3', '3', '3', '3', '3', '3', '3', '3', '3', '3', '3', '3', '3', '3', '3', '3', '3', '3', '3', '3', '3', '3', '3', '3', '3', '3', '3', '3', '3', '3', '3', '3', '3', '3', '3', '3', '3', '3', '3', '3', '3', '3', '3', '3', '3', '3', '3', '3', '3', '3', '3', '3', '3', '3', '3', '3', '3', '3', '3', '3', '3', '3', '3', '3', '3', '3', '3', '3', '3', '3', '3', '3', '3', '3', '3', '3', '3', '3', '3', '3', '3', '3', '3', '3', '3', '3', '3', '3', '3', '3', '3', '3', '3', '3', '3', '3', '3', '3', '3', '3', '3', '3', '3', '3', '3', '3', '3', '3', '3', '3', '3', '3', '3', '3', '3', '3', '3', '3', '3', '3', '3', '3', '3', '3', '3', '3', '3', '3', '3', '3', '3', '3', '3', '3', '3', '3', '3', '3', '3', '3', '3', '3', '3', '3', '3', '3', '3', '3', '3', '3', '3', '3', '3', '3', '3', '3', '3', '3', '3', '3', '3', '3', '3', '3', '3', '3', '3', '3', '3', '3', '3', '3', '3', '3', '3', '3', '3', '3', '3', '3', '3', '3', '3', '3', '3', '3', '3', '3', '3', '3', '3', '3', '3', '3', '3', '3', '3', '3', '3', '3', '3', '3', '3', '3', '3', '3', '3', '3', '3', '3', '3', '3', '3', '3', '3', '3', '3', '3', '3', '3', '3', '3', '3', '3', '3', '3', '3', '3', '3', '3', '3', '3', '3', '3', '3', '3', '3', '3', '3', '3', '3', '3', '3', '3', '3', '3', '3', '3', '3', '3', '3', '3', '3', '3', '3', '3', '3', '3', '3', '3', '3', '3', '3', '3', '3', '3', '3', '3', '3', '3', '3', '3', '3', '3', '3', '3', '3', '3', '3', '3', '3', '3', '3', '3', '3', '3', '3', '3', '3', '3', '3', '3', '3', '3', '3', '3', '3', '3', '3', '3', '3', '3', '3', '3', '3', '3', '3', '3', '3', '3', '3', '3', '3', '3', '3', '3', '3', '3', '3', '3', '3', '3', '3', '3', '3', '3', '3', '3', '3', '3', '3', '3', '3', '3', '3', '3']\n",
      "        0    1    2\n",
      "413   1.0  0.0  0.0\n",
      "1956  0.0  1.0  0.0\n",
      "2283  0.0  0.0  1.0\n",
      "1910  0.0  1.0  0.0\n",
      "892   0.0  1.0  0.0\n"
     ]
    },
    {
     "name": "stderr",
     "output_type": "stream",
     "text": [
      "/usr/local/lib/python3.6/dist-packages/tensorflow/python/framework/indexed_slices.py:434: UserWarning: Converting sparse IndexedSlices to a dense Tensor of unknown shape. This may consume a large amount of memory.\n",
      "  \"Converting sparse IndexedSlices to a dense Tensor of unknown shape. \"\n"
     ]
    },
    {
     "name": "stdout",
     "output_type": "stream",
     "text": [
      "Train on 2400 samples, validate on 600 samples\n",
      "Epoch 1/60\n",
      "2400/2400 [==============================] - 2s 859us/step - loss: 0.6185 - accuracy: 0.6771 - val_loss: 0.5521 - val_accuracy: 0.7317\n",
      "Epoch 2/60\n",
      "2400/2400 [==============================] - 2s 666us/step - loss: 0.4931 - accuracy: 0.7446 - val_loss: 0.4458 - val_accuracy: 0.7983\n",
      "Epoch 3/60\n",
      "2400/2400 [==============================] - 2s 672us/step - loss: 0.4120 - accuracy: 0.7911 - val_loss: 0.3712 - val_accuracy: 0.8156\n",
      "Epoch 4/60\n",
      "2400/2400 [==============================] - 2s 665us/step - loss: 0.3699 - accuracy: 0.8283 - val_loss: 0.3668 - val_accuracy: 0.8339\n",
      "Epoch 5/60\n",
      "2400/2400 [==============================] - 2s 661us/step - loss: 0.3562 - accuracy: 0.8351 - val_loss: 0.3402 - val_accuracy: 0.8494\n",
      "Epoch 6/60\n",
      "2400/2400 [==============================] - 2s 671us/step - loss: 0.3339 - accuracy: 0.8424 - val_loss: 0.3345 - val_accuracy: 0.8417\n",
      "Epoch 7/60\n",
      "2400/2400 [==============================] - 2s 667us/step - loss: 0.3071 - accuracy: 0.8550 - val_loss: 0.3171 - val_accuracy: 0.8628\n",
      "Epoch 8/60\n",
      "2400/2400 [==============================] - 2s 662us/step - loss: 0.3027 - accuracy: 0.8568 - val_loss: 0.3199 - val_accuracy: 0.8600\n",
      "Epoch 9/60\n",
      "2400/2400 [==============================] - 2s 665us/step - loss: 0.2989 - accuracy: 0.8617 - val_loss: 0.3140 - val_accuracy: 0.8539\n",
      "Epoch 10/60\n",
      "2400/2400 [==============================] - 2s 662us/step - loss: 0.2923 - accuracy: 0.8662 - val_loss: 0.3148 - val_accuracy: 0.8517\n",
      "Epoch 11/60\n",
      "2400/2400 [==============================] - 2s 659us/step - loss: 0.2844 - accuracy: 0.8679 - val_loss: 0.3098 - val_accuracy: 0.8383\n",
      "Epoch 12/60\n",
      "2400/2400 [==============================] - 2s 664us/step - loss: 0.2795 - accuracy: 0.8736 - val_loss: 0.2885 - val_accuracy: 0.8700\n",
      "Epoch 13/60\n",
      "2400/2400 [==============================] - 2s 660us/step - loss: 0.2771 - accuracy: 0.8669 - val_loss: 0.2978 - val_accuracy: 0.8694\n",
      "Epoch 14/60\n",
      "2400/2400 [==============================] - 2s 661us/step - loss: 0.2733 - accuracy: 0.8739 - val_loss: 0.2902 - val_accuracy: 0.8667\n",
      "Epoch 15/60\n",
      "2400/2400 [==============================] - 2s 659us/step - loss: 0.2792 - accuracy: 0.8719 - val_loss: 0.2843 - val_accuracy: 0.8683\n",
      "Epoch 16/60\n",
      "2400/2400 [==============================] - 2s 657us/step - loss: 0.2746 - accuracy: 0.8733 - val_loss: 0.2925 - val_accuracy: 0.8611\n",
      "Epoch 17/60\n",
      "2400/2400 [==============================] - 2s 660us/step - loss: 0.2731 - accuracy: 0.8728 - val_loss: 0.2793 - val_accuracy: 0.8706\n",
      "Epoch 18/60\n",
      "2400/2400 [==============================] - 2s 669us/step - loss: 0.2715 - accuracy: 0.8740 - val_loss: 0.2861 - val_accuracy: 0.8711\n",
      "Epoch 19/60\n",
      "2400/2400 [==============================] - 2s 666us/step - loss: 0.2729 - accuracy: 0.8735 - val_loss: 0.2850 - val_accuracy: 0.8733\n",
      "Epoch 20/60\n",
      "2400/2400 [==============================] - 2s 661us/step - loss: 0.2681 - accuracy: 0.8803 - val_loss: 0.2891 - val_accuracy: 0.8600\n",
      "Epoch 21/60\n",
      "2400/2400 [==============================] - 2s 669us/step - loss: 0.2625 - accuracy: 0.8808 - val_loss: 0.2823 - val_accuracy: 0.8683\n",
      "Epoch 22/60\n",
      "2400/2400 [==============================] - 2s 661us/step - loss: 0.2657 - accuracy: 0.8761 - val_loss: 0.2825 - val_accuracy: 0.8706\n",
      "Epoch 23/60\n",
      "2400/2400 [==============================] - 2s 669us/step - loss: 0.2620 - accuracy: 0.8739 - val_loss: 0.2888 - val_accuracy: 0.8689\n",
      "Epoch 24/60\n",
      "2400/2400 [==============================] - 2s 665us/step - loss: 0.2640 - accuracy: 0.8800 - val_loss: 0.3011 - val_accuracy: 0.8461\n",
      "Epoch 25/60\n",
      "2400/2400 [==============================] - 2s 670us/step - loss: 0.2680 - accuracy: 0.8754 - val_loss: 0.2835 - val_accuracy: 0.8706\n",
      "Epoch 26/60\n",
      "2400/2400 [==============================] - 2s 663us/step - loss: 0.2616 - accuracy: 0.8794 - val_loss: 0.2779 - val_accuracy: 0.8761\n",
      "Epoch 27/60\n",
      "2400/2400 [==============================] - 2s 659us/step - loss: 0.2636 - accuracy: 0.8811 - val_loss: 0.2766 - val_accuracy: 0.8744\n",
      "Epoch 28/60\n",
      "2400/2400 [==============================] - 2s 672us/step - loss: 0.2605 - accuracy: 0.8797 - val_loss: 0.2924 - val_accuracy: 0.8683\n",
      "Epoch 29/60\n",
      "2400/2400 [==============================] - 2s 666us/step - loss: 0.2608 - accuracy: 0.8750 - val_loss: 0.2998 - val_accuracy: 0.8694\n",
      "Epoch 30/60\n",
      "2400/2400 [==============================] - 2s 667us/step - loss: 0.2636 - accuracy: 0.8792 - val_loss: 0.2895 - val_accuracy: 0.8683\n",
      "Epoch 31/60\n",
      "2400/2400 [==============================] - 2s 671us/step - loss: 0.2563 - accuracy: 0.8818 - val_loss: 0.2882 - val_accuracy: 0.8678\n",
      "Epoch 32/60\n",
      "2400/2400 [==============================] - 2s 666us/step - loss: 0.2555 - accuracy: 0.8821 - val_loss: 0.2869 - val_accuracy: 0.8672\n",
      "Epoch 33/60\n",
      "2400/2400 [==============================] - 2s 665us/step - loss: 0.2555 - accuracy: 0.8789 - val_loss: 0.2877 - val_accuracy: 0.8683\n",
      "Epoch 34/60\n",
      "2400/2400 [==============================] - 2s 662us/step - loss: 0.2570 - accuracy: 0.8810 - val_loss: 0.2793 - val_accuracy: 0.8717\n",
      "Epoch 35/60\n",
      "2400/2400 [==============================] - 2s 667us/step - loss: 0.2575 - accuracy: 0.8821 - val_loss: 0.2813 - val_accuracy: 0.8728\n",
      "Epoch 36/60\n",
      "2400/2400 [==============================] - 2s 663us/step - loss: 0.2581 - accuracy: 0.8825 - val_loss: 0.2815 - val_accuracy: 0.8611\n",
      "Epoch 37/60\n",
      "2400/2400 [==============================] - 2s 673us/step - loss: 0.2559 - accuracy: 0.8828 - val_loss: 0.2812 - val_accuracy: 0.8733\n",
      "Epoch 38/60\n",
      "2400/2400 [==============================] - 2s 666us/step - loss: 0.2572 - accuracy: 0.8838 - val_loss: 0.2843 - val_accuracy: 0.8678\n",
      "Epoch 39/60\n",
      "2400/2400 [==============================] - 2s 670us/step - loss: 0.2535 - accuracy: 0.8826 - val_loss: 0.2832 - val_accuracy: 0.8678\n",
      "Epoch 40/60\n",
      "2400/2400 [==============================] - 2s 662us/step - loss: 0.2519 - accuracy: 0.8849 - val_loss: 0.3082 - val_accuracy: 0.8600\n",
      "Epoch 41/60\n",
      "2400/2400 [==============================] - 2s 670us/step - loss: 0.2646 - accuracy: 0.8781 - val_loss: 0.2890 - val_accuracy: 0.8722\n",
      "Epoch 42/60\n",
      "2400/2400 [==============================] - 2s 666us/step - loss: 0.2536 - accuracy: 0.8838 - val_loss: 0.2768 - val_accuracy: 0.8717\n",
      "Epoch 43/60\n",
      "2400/2400 [==============================] - 2s 670us/step - loss: 0.2502 - accuracy: 0.8846 - val_loss: 0.2780 - val_accuracy: 0.8744\n",
      "Epoch 44/60\n",
      "2400/2400 [==============================] - 2s 661us/step - loss: 0.2514 - accuracy: 0.8836 - val_loss: 0.2808 - val_accuracy: 0.8700\n",
      "Epoch 45/60\n",
      "2400/2400 [==============================] - 2s 657us/step - loss: 0.2568 - accuracy: 0.8817 - val_loss: 0.2931 - val_accuracy: 0.8556\n",
      "Epoch 46/60\n",
      "2400/2400 [==============================] - 2s 666us/step - loss: 0.2560 - accuracy: 0.8817 - val_loss: 0.2882 - val_accuracy: 0.8672\n",
      "Epoch 47/60\n",
      "2400/2400 [==============================] - 2s 664us/step - loss: 0.2521 - accuracy: 0.8832 - val_loss: 0.2777 - val_accuracy: 0.8700\n",
      "Epoch 48/60\n",
      "2400/2400 [==============================] - 2s 656us/step - loss: 0.2511 - accuracy: 0.8822 - val_loss: 0.2829 - val_accuracy: 0.8672\n",
      "Epoch 49/60\n",
      "2400/2400 [==============================] - 2s 661us/step - loss: 0.2494 - accuracy: 0.8860 - val_loss: 0.2824 - val_accuracy: 0.8667\n",
      "Epoch 50/60\n",
      "2400/2400 [==============================] - 2s 673us/step - loss: 0.2509 - accuracy: 0.8843 - val_loss: 0.2816 - val_accuracy: 0.8683\n",
      "Epoch 51/60\n",
      "2400/2400 [==============================] - 2s 659us/step - loss: 0.2509 - accuracy: 0.8824 - val_loss: 0.2847 - val_accuracy: 0.8722\n",
      "Epoch 52/60\n",
      "2400/2400 [==============================] - 2s 654us/step - loss: 0.2528 - accuracy: 0.8824 - val_loss: 0.2773 - val_accuracy: 0.8722\n",
      "Epoch 53/60\n",
      "2400/2400 [==============================] - 2s 689us/step - loss: 0.2479 - accuracy: 0.8868 - val_loss: 0.2797 - val_accuracy: 0.8722\n",
      "Epoch 54/60\n",
      "2400/2400 [==============================] - 2s 706us/step - loss: 0.2514 - accuracy: 0.8838 - val_loss: 0.2857 - val_accuracy: 0.8689\n",
      "Epoch 55/60\n",
      "2400/2400 [==============================] - 2s 707us/step - loss: 0.2531 - accuracy: 0.8803 - val_loss: 0.2814 - val_accuracy: 0.8639\n",
      "Epoch 56/60\n",
      "2400/2400 [==============================] - 2s 709us/step - loss: 0.2512 - accuracy: 0.8826 - val_loss: 0.2851 - val_accuracy: 0.8667\n",
      "Epoch 57/60\n",
      "2400/2400 [==============================] - 2s 670us/step - loss: 0.2484 - accuracy: 0.8824 - val_loss: 0.2833 - val_accuracy: 0.8672\n",
      "Epoch 58/60\n",
      "2400/2400 [==============================] - 2s 661us/step - loss: 0.2448 - accuracy: 0.8865 - val_loss: 0.2822 - val_accuracy: 0.8500\n",
      "Epoch 59/60\n",
      "2400/2400 [==============================] - 2s 668us/step - loss: 0.2465 - accuracy: 0.8847 - val_loss: 0.2806 - val_accuracy: 0.8711\n",
      "Epoch 60/60\n",
      "2400/2400 [==============================] - 2s 662us/step - loss: 0.2450 - accuracy: 0.8843 - val_loss: 0.2857 - val_accuracy: 0.8772\n",
      "600/600 [==============================] - 0s 236us/step\n",
      "Loss/Accuracy : [0.28567699193954466, 0.8772220611572266]\n"
     ]
    },
    {
     "name": "stderr",
     "output_type": "stream",
     "text": [
      "/usr/local/lib/python3.6/dist-packages/ipykernel_launcher.py:86: MatplotlibDeprecationWarning: Unrecognized location 'bottom left'. Falling back on 'best'; valid locations are\n",
      "\tbest\n",
      "\tupper right\n",
      "\tupper left\n",
      "\tlower left\n",
      "\tlower right\n",
      "\tright\n",
      "\tcenter left\n",
      "\tcenter right\n",
      "\tlower center\n",
      "\tupper center\n",
      "\tcenter\n",
      "This will raise an exception in 3.3.\n"
     ]
    },
    {
     "data": {
      "image/png": "[encoded data removed]",
      "text/plain": [
       "<Figure size 432x288 with 1 Axes>"
      ]
     },
     "metadata": {
      "needs_background": "light",
      "tags": []
     },
     "output_type": "display_data"
    },
    {
     "name": "stdout",
     "output_type": "stream",
     "text": [
      "None\n",
      "[[164   5   0]\n",
      " [ 62 194   6]\n",
      " [ 25  13 131]]\n",
      "(<Figure size 432x288 with 1 Axes>, <matplotlib.axes._subplots.AxesSubplot object at 0x7f6265fbb9b0>)\n"
     ]
    },
    {
     "data": {
      "image/png": "[encoded data removed]",
      "text/plain": [
       "<Figure size 432x288 with 1 Axes>"
      ]
     },
     "metadata": {
      "needs_background": "light",
      "tags": []
     },
     "output_type": "display_data"
    }
   ],
   "source": [
    "\n",
    "stop_word_list=stopwords.words('turkish')\n",
    "\n",
    "def preprocess_text(sen):\n",
    "  \n",
    "    sentence = re.sub('[\\d\\s]', ' ', str(sen))\n",
    "    sentence = re.sub('[^\\w\\s]', ' ', str(sentence))\n",
    "    sentence = re.sub(r\"\\b[\\w\\s]\\b\", ' ',str(sentence))\n",
    "    sentence = re.sub(r'\\s+', ' ', sentence)\n",
    "    WPT = nltk.WordPunctTokenizer()\n",
    "    tokens = WPT.tokenize(sentence)\n",
    "    filtered_tokens = [token for token in tokens if token not in stop_word_list]\n",
    "    single_doc = ' '.join(filtered_tokens)  \n",
    "    return single_doc.lower()\n",
    "\n",
    "for i in range(len(x)):\n",
    "    x[i] = preprocess_text(x[i])\n",
    "\n",
    "words = []\n",
    "for i in x:\n",
    "    words.append(i.split())\n",
    "\n",
    "token = Tokenizer()\n",
    "token.fit_on_texts(x)\n",
    "x = token.texts_to_sequences(x)\n",
    "x = pad_sequences(x)\n",
    "\n",
    "embeddings_index={}\n",
    "word_index=token.word_index\n",
    "\n",
    "scaler = StandardScaler()\n",
    "x = scaler.fit_transform(x)\n",
    "print(x)\n",
    "\n",
    "print(y)\n",
    "encode = preprocessing.LabelEncoder()\n",
    "y = encode.fit_transform(y)\n",
    "y = to_categorical(y)\n",
    "print(pd.DataFrame(y).sample(5))\n",
    "\n",
    "\n",
    "corpus=Corpus()\n",
    "corpus.fit(words, window=20)\n",
    "eldiven=Glove(no_components=5,learning_rate=.05)\n",
    "eldiven.fit(corpus.matrix, epochs=30,no_threads=4, verbose=False)\n",
    "eldiven.add_dictionary(corpus.dictionary)\n",
    "eldiven.save('eldiven.model')\n",
    "\n",
    "for word, i in eldiven.dictionary.items():\n",
    "    eldiven.dictionary[word]=eldiven.word_vectors[i]\n",
    "\n",
    "for line, i in eldiven.dictionary.items():\n",
    "    word =line\n",
    "    coefs=np.asarray(i, dtype='float32')\n",
    "    embeddings_index[word]=coefs\n",
    "\n",
    "vocab_size=len(word_index)+1\n",
    "\n",
    "embedding_matrix=np.zeros((vocab_size,5))\n",
    "for word, i in word_index.items():\n",
    "    embedding_vector=embeddings_index.get(word)\n",
    "    if embedding_vector is not None:\n",
    "        embedding_matrix[i]=embedding_vector\n",
    "\n",
    "\n",
    "x_train, x_test, y_train, y_test = train_test_split(x, y, test_size = 0.2, random_state = 0)\n",
    "\n",
    "model = Sequential()\n",
    "model.add(Embedding(vocab_size,5,trainable=True,weights=[embedding_matrix]))\n",
    "model.add(LSTM(units=128))\n",
    "model.add(Dense(3, activation='sigmoid'))\n",
    "\n",
    "model.compile(optimizer='adam', loss='binary_crossentropy', metrics=['accuracy'])\n",
    "t = model.fit(x_train, y_train, batch_size=128, epochs=60, validation_data=(x_test, y_test))\n",
    "\n",
    "la_ratio=model.evaluate(x_test,y_test)\n",
    "print('Loss/Accuracy :', la_ratio)\n",
    "\n",
    "\n",
    "plt.plot(t.history['accuracy'],color='b', label=\"Training accuracy\")\n",
    "plt.plot(t.history['val_accuracy'],color='y', label=\"Test accuracy\")\n",
    "plt.plot(t.history['loss'],color='g', label=\"Training loss\")\n",
    "plt.plot(t.history['val_loss'],color='r', label=\"Test accuracy\")\n",
    "plt.title('Model')\n",
    "plt.xlabel('Epoch')\n",
    "plt.legend(['Train Accuracy','Test Accuracy','Train Loss','Test Loss'],loc='bottom left')\n",
    "print(plt.show())\n",
    "\n",
    "from sklearn.metrics import confusion_matrix\n",
    "from mlxtend.plotting import plot_confusion_matrix\n",
    "import numpy as np\n",
    "\n",
    "rounded_pred = model.predict_classes(x_test, batch_size=128, verbose=0)\n",
    "rounded_labels=np.argmax(y_test, axis=1)\n",
    "print(confusion_matrix(rounded_labels,rounded_pred))\n",
    "print(plot_confusion_matrix(conf_mat=confusion_matrix(rounded_labels,rounded_pred)))\n"
   ]
  },
  {
   "cell_type": "code",
   "execution_count": null,
   "metadata": {
    "colab": {},
    "colab_type": "code",
    "id": "bIx75Lgk6cBT"
   },
   "outputs": [],
   "source": []
  }
 ],
 "metadata": {
  "colab": {
   "authorship_tag": "ABX9TyPGOx4+itvMB9VujEydSWG1",
   "name": "Eldiven3K",
   "provenance": []
  },
  "kernelspec": {
   "display_name": "Python 3",
   "language": "python",
   "name": "python3"
  },
  "language_info": {
   "codemirror_mode": {
    "name": "ipython",
    "version": 3
   },
   "file_extension": ".py",
   "mimetype": "text/x-python",
   "name": "python",
   "nbconvert_exporter": "python",
   "pygments_lexer": "ipython3",
   "version": "3.7.7"
  }
 },
 "nbformat": 4,
 "nbformat_minor": 1
}
